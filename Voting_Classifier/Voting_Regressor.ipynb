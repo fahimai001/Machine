{
  "nbformat": 4,
  "nbformat_minor": 0,
  "metadata": {
    "colab": {
      "provenance": []
    },
    "kernelspec": {
      "name": "python3",
      "display_name": "Python 3"
    },
    "language_info": {
      "name": "python"
    }
  },
  "cells": [
    {
      "cell_type": "code",
      "execution_count": 38,
      "metadata": {
        "id": "M4inv2tRLpKu"
      },
      "outputs": [],
      "source": [
        "import pandas as pd\n",
        "import numpy as np\n",
        "import seaborn as sns"
      ]
    },
    {
      "cell_type": "code",
      "source": [
        "df = sns.load_dataset('tips')"
      ],
      "metadata": {
        "id": "64pdsNAlMkY0"
      },
      "execution_count": 39,
      "outputs": []
    },
    {
      "cell_type": "code",
      "source": [
        "X = df[['total_bill']]\n",
        "y = df['tip']\n"
      ],
      "metadata": {
        "id": "HdIoDYF-NeAo"
      },
      "execution_count": 57,
      "outputs": []
    },
    {
      "cell_type": "code",
      "source": [
        "from sklearn.linear_model import LinearRegression\n",
        "from sklearn.tree import DecisionTreeRegressor\n",
        "from sklearn.svm import SVR\n",
        "from sklearn.model_selection import cross_val_score"
      ],
      "metadata": {
        "id": "NiNNO6-yPNhe"
      },
      "execution_count": 58,
      "outputs": []
    },
    {
      "cell_type": "code",
      "source": [
        "lr = LinearRegression()\n",
        "dt = DecisionTreeRegressor()\n",
        "svr = SVR()"
      ],
      "metadata": {
        "id": "6cWM7yeAPqiO"
      },
      "execution_count": 59,
      "outputs": []
    },
    {
      "cell_type": "code",
      "source": [
        "estimators = [('lr',lr),('dt',dt),('svr',svr)]"
      ],
      "metadata": {
        "id": "BNjrbu0aP5Sa"
      },
      "execution_count": 60,
      "outputs": []
    },
    {
      "cell_type": "code",
      "source": [
        "for estimator in estimators:\n",
        "  x = cross_val_score(estimator[1],X,y,cv=10,scoring='r2')\n",
        "  print(estimator[0],np.round(np.mean(x),2))"
      ],
      "metadata": {
        "colab": {
          "base_uri": "https://localhost:8080/"
        },
        "id": "VVLSYdCfQDk-",
        "outputId": "4a8ef2ad-1eee-4eba-9daa-bac1013c9efa"
      },
      "execution_count": 61,
      "outputs": [
        {
          "output_type": "stream",
          "name": "stdout",
          "text": [
            "lr 0.35\n",
            "dt -0.13\n",
            "svr 0.31\n"
          ]
        }
      ]
    },
    {
      "cell_type": "code",
      "source": [
        "from sklearn.ensemble import VotingRegressor"
      ],
      "metadata": {
        "id": "RVf40sZ0RO7a"
      },
      "execution_count": 62,
      "outputs": []
    },
    {
      "cell_type": "code",
      "source": [
        "vr = VotingRegressor(estimators)\n",
        "x = cross_val_score(vr,X,y,cv=10,scoring='r2')\n",
        "print(np.round(np.mean(x),2))"
      ],
      "metadata": {
        "colab": {
          "base_uri": "https://localhost:8080/"
        },
        "id": "aHXlDucKRWlV",
        "outputId": "871a837f-b4d0-481f-a39d-3e9f69c8b5cb"
      },
      "execution_count": 66,
      "outputs": [
        {
          "output_type": "stream",
          "name": "stdout",
          "text": [
            "0.31\n"
          ]
        }
      ]
    },
    {
      "cell_type": "code",
      "source": [
        "# Assigning Weights\n",
        "for i in range(1,4):\n",
        "  for j in range(1,4):\n",
        "    for k in range(1,4):\n",
        "      vr1 = VotingRegressor(estimators, weights=[i,j,k])\n",
        "      x = cross_val_score(vr1,X,y,cv=10,scoring='r2')\n",
        "      print('for i={}, j={}, k={}'.format(i,j,k),np.round(np.mean(x),2))"
      ],
      "metadata": {
        "colab": {
          "base_uri": "https://localhost:8080/"
        },
        "id": "8fErt0B6SCLm",
        "outputId": "b3ecb677-729c-4072-d54d-73d1d155eba4"
      },
      "execution_count": 70,
      "outputs": [
        {
          "output_type": "stream",
          "name": "stdout",
          "text": [
            "for i=1, j=1, k=1 0.31\n",
            "for i=1, j=1, k=2 0.32\n",
            "for i=1, j=1, k=3 0.33\n",
            "for i=1, j=2, k=1 0.25\n",
            "for i=1, j=2, k=2 0.29\n",
            "for i=1, j=2, k=3 0.3\n",
            "for i=1, j=3, k=1 0.2\n",
            "for i=1, j=3, k=2 0.25\n",
            "for i=1, j=3, k=3 0.27\n",
            "for i=2, j=1, k=1 0.34\n",
            "for i=2, j=1, k=2 0.34\n",
            "for i=2, j=1, k=3 0.34\n",
            "for i=2, j=2, k=1 0.3\n",
            "for i=2, j=2, k=2 0.31\n",
            "for i=2, j=2, k=3 0.32\n",
            "for i=2, j=3, k=1 0.26\n",
            "for i=2, j=3, k=2 0.28\n",
            "for i=2, j=3, k=3 0.3\n",
            "for i=3, j=1, k=1 0.35\n",
            "for i=3, j=1, k=2 0.35\n",
            "for i=3, j=1, k=3 0.34\n",
            "for i=3, j=2, k=1 0.32\n",
            "for i=3, j=2, k=2 0.33\n",
            "for i=3, j=2, k=3 0.33\n",
            "for i=3, j=3, k=1 0.29\n",
            "for i=3, j=3, k=2 0.3\n",
            "for i=3, j=3, k=3 0.31\n"
          ]
        }
      ]
    },
    {
      "cell_type": "code",
      "source": [
        "# Applying multiple DecisionTreeRegressor\n",
        "dt1 = DecisionTreeRegressor(max_depth=1)\n",
        "dt2 = DecisionTreeRegressor(max_depth=3)\n",
        "dt3 = DecisionTreeRegressor(max_depth=5)\n",
        "dt4 = DecisionTreeRegressor(max_depth=7)"
      ],
      "metadata": {
        "id": "IWrRrcBgTamA"
      },
      "execution_count": 72,
      "outputs": []
    },
    {
      "cell_type": "code",
      "source": [
        "estimators = [('dt1',dt1),('dt2',dt2),('dt3',dt3),('dt4',dt4)]\n",
        "for i in estimators:\n",
        "  x = cross_val_score(i[1],X,y,cv=10,scoring='r2')\n",
        "  print(i[0],np.round(np.mean(x),2))"
      ],
      "metadata": {
        "colab": {
          "base_uri": "https://localhost:8080/"
        },
        "id": "ViTPILhkTvLw",
        "outputId": "a62de31f-a368-4f5f-9957-5cf4ab4e7709"
      },
      "execution_count": 74,
      "outputs": [
        {
          "output_type": "stream",
          "name": "stdout",
          "text": [
            "dt1 0.13\n",
            "dt2 0.3\n",
            "dt3 0.14\n",
            "dt4 0.07\n"
          ]
        }
      ]
    },
    {
      "cell_type": "code",
      "source": [
        "vr2 = VotingRegressor(estimators)\n",
        "x = cross_val_score(vr2,X,y,cv=10,scoring='r2')\n",
        "print(np.round(np.mean(x),2))"
      ],
      "metadata": {
        "colab": {
          "base_uri": "https://localhost:8080/"
        },
        "id": "6_LLMq2FUtqF",
        "outputId": "ee4cac53-d33f-4491-a87e-33300a1ac454"
      },
      "execution_count": 75,
      "outputs": [
        {
          "output_type": "stream",
          "name": "stdout",
          "text": [
            "0.24\n"
          ]
        }
      ]
    }
  ]
}