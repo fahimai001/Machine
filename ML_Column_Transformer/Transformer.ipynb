{
 "cells": [
  {
   "cell_type": "code",
   "execution_count": 2,
   "metadata": {},
   "outputs": [
    {
     "name": "stdout",
     "output_type": "stream",
     "text": [
      "[[1.  0.  0.  0.2]\n",
      " [0.  1.  0.  0.6]\n",
      " [1.  0.  0.  1. ]\n",
      " [0.  0.  1.  0. ]]\n"
     ]
    }
   ],
   "source": [
    "import pandas as pd\n",
    "from sklearn.compose import ColumnTransformer\n",
    "from sklearn.preprocessing import OneHotEncoder, MinMaxScaler\n",
    "\n",
    "# Sample data (replace with your data)\n",
    "data = {'categorical_feature': ['A', 'B', 'A', 'C'],\n",
    "        'numerical_feature': [10, 20, 30, 5]}\n",
    "df = pd.DataFrame(data)\n",
    "\n",
    "# Define transformers for different data types\n",
    "categorical_transformer = OneHotEncoder(handle_unknown='ignore')\n",
    "numerical_transformer = MinMaxScaler()\n",
    "\n",
    "# Define ColumnTransformer\n",
    "transformer = ColumnTransformer(transformers=[\n",
    "    ('categorical', categorical_transformer, ['categorical_feature']),\n",
    "    ('numerical', numerical_transformer, ['numerical_feature'])\n",
    "])\n",
    "\n",
    "# Transform the data\n",
    "transformed_data = transformer.fit_transform(df)\n",
    "\n",
    "# Print transformed data (one-hot encoded categorical and scaled numerical)\n",
    "print(transformed_data)"
   ]
  }
 ],
 "metadata": {
  "kernelspec": {
   "display_name": "python_ml",
   "language": "python",
   "name": "python3"
  },
  "language_info": {
   "codemirror_mode": {
    "name": "ipython",
    "version": 3
   },
   "file_extension": ".py",
   "mimetype": "text/x-python",
   "name": "python",
   "nbconvert_exporter": "python",
   "pygments_lexer": "ipython3",
   "version": "3.11.0"
  }
 },
 "nbformat": 4,
 "nbformat_minor": 2
}
